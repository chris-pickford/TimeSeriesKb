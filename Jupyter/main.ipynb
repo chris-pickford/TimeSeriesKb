{
 "cells": [
  {
   "cell_type": "code",
   "execution_count": 1,
   "metadata": {},
   "outputs": [],
   "source": [
    "import os\n",
    "import sys\n",
    "import config as cfg\n",
    "import time\n",
    "\n",
    "import pandas as pd\n",
    "import numpy as np"
   ]
  },
  {
   "cell_type": "code",
   "execution_count": 2,
   "metadata": {},
   "outputs": [],
   "source": [
    "PROJECT_NAME = 'project name'\n",
    "PROJECT_START_DATE = 'start date' #ENGLISH DATE FORMAT\n",
    "PROJECT_END_DATE = '' #ENGLISH DATE FORMAT"
   ]
  },
  {
   "cell_type": "code",
   "execution_count": 3,
   "metadata": {
    "scrolled": true
   },
   "outputs": [
    {
     "name": "stdout",
     "output_type": "stream",
     "text": [
      "The haribo package provides the following functions to use in Jupyter:\n",
      "\n",
      "set_screen_width() - sets cells to be 90% of screen width\n",
      "\n",
      "show_df(dataFrame, allRows = False) - shows all columns of a dataFrame when displayed\n",
      "\n",
      "pickle_it(data, path) - safely pickles a file\n",
      "\n",
      "from_pickle_jar(path) - safely loads a pickled file\n",
      "\n"
     ]
    },
    {
     "data": {
      "text/html": [
       "<style>.container { width:90% !important; }</style>"
      ],
      "text/plain": [
       "<IPython.core.display.HTML object>"
      ]
     },
     "metadata": {},
     "output_type": "execute_result"
    }
   ],
   "source": [
    "#ROOT, PROJECT_ROOT, PACKAGE_ROOT = config.configure_environment('Local',PROJECT_NAME)\n",
    "\n",
    "config = cfg.privateConfig(cfg.OS, PROJECT_NAME)"
   ]
  },
  {
   "cell_type": "code",
   "execution_count": 4,
   "metadata": {},
   "outputs": [],
   "source": [
    "from UtilityPackagesV2.dbutility import gnrl_database_interaction as gdbi\n",
    "from UtilityPackagesV2.dbutility import credentials\n",
    "from UtilityPackagesV2.apiutility import gnrl_api_interaction as gapi\n",
    "from CodeCandy.haribo import jupyter as candy"
   ]
  },
  {
   "cell_type": "markdown",
   "metadata": {},
   "source": [
    "# Create a connection object"
   ]
  },
  {
   "cell_type": "code",
   "execution_count": null,
   "metadata": {},
   "outputs": [],
   "source": [
    "logFileName = PROJECT_NAME + '.log'\n",
    "_ = config.set_logging(logFileName)\n",
    "\n",
    "newUser = cfg.credentials()\n",
    "\n",
    "dataIn = {'credentials': newUser,\n",
    "         'logFileName': 'LogMIQuery.log'}\n",
    "\n",
    "connection = gdbi.MIConnection(config,credentials=newUser, logFileName=logFileName)\n",
    "connection = gdbi.GBQConnection(config, credentials=newUser,logFileName=logFileName)\n",
    "connection2 = gdbi.GBQConnection(config, credentials=newUser,logFileName=logFileName,useLegacy=False, projectId='on-the-beach---attribution',if_exists='replace') # push to BQ\n",
    "connection = gapi.AdwordsAPIConnection(config, os.path.join(config.PROJECT_ROOT,'Materials', 'googleads.yaml'), credentials=newUser, logFileName = logFileName)\n",
    "connection = gapi.GaAPIConnection(config, credentials=newUser, logFileName = logFileName)"
   ]
  },
  {
   "cell_type": "markdown",
   "metadata": {},
   "source": [
    "# Create a connection object handler"
   ]
  },
  {
   "cell_type": "code",
   "execution_count": null,
   "metadata": {},
   "outputs": [],
   "source": [
    "\n",
    "sqlConnection = gdbi.ExecuteSQL(\n",
    "    connection=connection, \n",
    "    query = os.path.join(config.PROJECT_ROOT,'Materials', 'hourlyReportUK.sql'),\n",
    "    outputPath = os.path.join(config.PROJECT_ROOT,'Data', 'HourlyReportDataMI_29_10_2018.csv')\n",
    ")\n",
    "\n",
    "query = {\n",
    "    'reportRequests': [\n",
    "    {\n",
    "      'viewId': '90231540' ,\n",
    "      'dateRanges': [{'startDate': '7daysAgo', 'endDate': 'today'}],\n",
    "      'metrics': [{'expression': 'ga:sessions'}],\n",
    "      'dimensions': [{'name': 'ga:country'}]\n",
    "    }]}\n",
    "\n",
    "sqlConnection = gapi.ExecuteAPICall(\n",
    "    connection=connection, \n",
    "    query=query,\n",
    "    outputPath=os.path.join(config.PROJECT_ROOT,'Data', 'GA_API_data.csv')\n",
    ")"
   ]
  },
  {
   "cell_type": "markdown",
   "metadata": {},
   "source": [
    "# Pull data"
   ]
  },
  {
   "cell_type": "code",
   "execution_count": null,
   "metadata": {},
   "outputs": [],
   "source": [
    "message, data = sqlConnection.execute_script()\n",
    "data"
   ]
  },
  {
   "cell_type": "markdown",
   "metadata": {},
   "source": [
    "# Put code here"
   ]
  },
  {
   "cell_type": "code",
   "execution_count": null,
   "metadata": {},
   "outputs": [],
   "source": []
  },
  {
   "cell_type": "code",
   "execution_count": null,
   "metadata": {},
   "outputs": [],
   "source": []
  },
  {
   "cell_type": "code",
   "execution_count": null,
   "metadata": {},
   "outputs": [],
   "source": []
  },
  {
   "cell_type": "code",
   "execution_count": null,
   "metadata": {},
   "outputs": [],
   "source": []
  },
  {
   "cell_type": "code",
   "execution_count": null,
   "metadata": {},
   "outputs": [],
   "source": []
  },
  {
   "cell_type": "code",
   "execution_count": null,
   "metadata": {},
   "outputs": [],
   "source": []
  }
 ],
 "metadata": {
  "kernelspec": {
   "display_name": "utilityPackageV2_testing",
   "language": "python",
   "name": "utilitypackagev2_testing"
  },
  "language_info": {
   "codemirror_mode": {
    "name": "ipython",
    "version": 3
   },
   "file_extension": ".py",
   "mimetype": "text/x-python",
   "name": "python",
   "nbconvert_exporter": "python",
   "pygments_lexer": "ipython3",
   "version": "3.6.8"
  }
 },
 "nbformat": 4,
 "nbformat_minor": 2
}
